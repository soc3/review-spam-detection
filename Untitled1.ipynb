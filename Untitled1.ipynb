{
 "cells": [
  {
   "cell_type": "code",
   "execution_count": 1,
   "metadata": {},
   "outputs": [
    {
     "name": "stdout",
     "output_type": "stream",
     "text": [
      "--------------------------------------------------\n"
     ]
    }
   ],
   "source": [
    "import pandas as pd\n",
    "import string\n",
    "from nltk.corpus import stopwords\n",
    "import json\n",
    "import features\n",
    "from sklearn.preprocessing import LabelEncoder\n",
    "le = LabelEncoder()"
   ]
  },
  {
   "cell_type": "code",
   "execution_count": 2,
   "metadata": {
    "collapsed": true
   },
   "outputs": [],
   "source": [
    "def preprocess(mess):\n",
    "    nopunc = [c for c in mess if c not in string.punctuation]\n",
    "    nopunc = ''.join(nopunc)\n",
    "    return [word for word in nopunc.split() if word.lower() not in stopwords.words('english')]"
   ]
  },
  {
   "cell_type": "code",
   "execution_count": 3,
   "metadata": {
    "collapsed": true
   },
   "outputs": [],
   "source": [
    "with open(\"Data/TestSet\") as fh:\n",
    "    data = json.load(fh)\n",
    "df = pd.DataFrame(data)\n",
    "df.columns = [\"review_id\", \"hotel_name\", \"review\", \"polarity\", \"spam\"]"
   ]
  },
  {
   "cell_type": "code",
   "execution_count": 7,
   "metadata": {},
   "outputs": [
    {
     "name": "stdout",
     "output_type": "stream",
     "text": [
      "(20, 5)\n"
     ]
    }
   ],
   "source": [
    "n = 20\n",
    "a = [0]*n\n",
    "b = [0]*n\n",
    "c = [0]*n\n",
    "d = [0]*n\n",
    "e = [0]*n\n",
    "f2 = [0]*n\n",
    "g = [0]*n\n",
    "h = [0]*n\n",
    "i1 = [0]*n\n",
    "j = [0]*n\n",
    "k = [0]*n\n",
    "l = [0]*n\n",
    "i = 0\n",
    "for f in df[\"review\"].head(1000):\n",
    "    a1,a2,a3,a4,a5,a6,a7,a8,a9,a10,a11,a12 = features.majorfunc(f)\n",
    "    a[i] = a1\n",
    "    b[i] = a2\n",
    "    c[i] = a3\n",
    "    d[i] = a4\n",
    "    e[i] = a5\n",
    "    f2[i] = a6\n",
    "    g[i] = a7\n",
    "    h[i] = a8\n",
    "    i1[i] = a9\n",
    "    j[i] = a10\n",
    "    k[i] = a11\n",
    "    l[i] = a12\n",
    "print(df.shape)"
   ]
  },
  {
   "cell_type": "code",
   "execution_count": 8,
   "metadata": {},
   "outputs": [],
   "source": [
    "\n",
    "df[\"num_of_words\"] = a\n",
    "df[\"avg_words_per_sent\"]=b\n",
    "df[\"unique_words\"]=c\n",
    "df[\"self_words\"]=d\n",
    "df[\"brand\"]=e\n",
    "df[\"avg_word_length\"]=f2\n",
    "df[\"connectors\"]=g\n",
    "df[\"digits\"]=h\n",
    "df[\"verbs_per_noun\"]=i1\n",
    "df[\"adj\"]=j\n",
    "df[\"prep\"]=k\n",
    "df[\"adverb\"]=l"
   ]
  },
  {
   "cell_type": "code",
   "execution_count": 9,
   "metadata": {
    "collapsed": true
   },
   "outputs": [],
   "source": [
    "df[\"hotel_name\"] = le.fit_transform(df[\"hotel_name\"].astype('str'))"
   ]
  },
  {
   "cell_type": "code",
   "execution_count": 10,
   "metadata": {
    "collapsed": true
   },
   "outputs": [],
   "source": [
    "just_dummies = pd.get_dummies(df['hotel_name'])\n",
    "\n",
    "df = pd.concat([df, just_dummies], axis=1)      \n",
    "df.drop(['hotel_name'], inplace=True, axis=1)"
   ]
  },
  {
   "cell_type": "code",
   "execution_count": 11,
   "metadata": {
    "collapsed": true
   },
   "outputs": [],
   "source": [
    "df.drop(['review_id','review'],axis=1,inplace=True)"
   ]
  },
  {
   "cell_type": "code",
   "execution_count": 12,
   "metadata": {},
   "outputs": [
    {
     "name": "stdout",
     "output_type": "stream",
     "text": [
      "   polarity  spam  num_of_words  avg_words_per_sent  unique_words  self_words  \\\n",
      "0         1     1            66            7.444444            47    0.052632   \n",
      "1         1     1             0            0.000000             0    0.000000   \n",
      "2         1     1             0            0.000000             0    0.000000   \n",
      "3         1     1             0            0.000000             0    0.000000   \n",
      "4         1     1             0            0.000000             0    0.000000   \n",
      "\n",
      "   brand  avg_word_length  connectors  digits ...  5  6  7  8  9  10  11  12  \\\n",
      "0      0         4.171053           3       0 ...  0  0  0  0  0   0   1   0   \n",
      "1      0         0.000000           0       0 ...  0  0  1  0  0   0   0   0   \n",
      "2      0         0.000000           0       0 ...  0  0  0  1  0   0   0   0   \n",
      "3      0         0.000000           0       0 ...  0  0  0  0  0   0   0   1   \n",
      "4      0         0.000000           0       0 ...  0  0  0  1  0   0   0   0   \n",
      "\n",
      "   13  14  \n",
      "0   0   0  \n",
      "1   0   0  \n",
      "2   0   0  \n",
      "3   0   0  \n",
      "4   0   0  \n",
      "\n",
      "[5 rows x 29 columns]\n"
     ]
    }
   ],
   "source": [
    "print(df.head(5))"
   ]
  },
  {
   "cell_type": "code",
   "execution_count": 13,
   "metadata": {
    "collapsed": true
   },
   "outputs": [],
   "source": [
    "df.to_csv(\"train.csv\", sep=',')"
   ]
  },
  {
   "cell_type": "code",
   "execution_count": null,
   "metadata": {
    "collapsed": true
   },
   "outputs": [],
   "source": []
  }
 ],
 "metadata": {
  "kernelspec": {
   "display_name": "Python 3",
   "language": "python",
   "name": "python3"
  },
  "language_info": {
   "codemirror_mode": {
    "name": "ipython",
    "version": 3
   },
   "file_extension": ".py",
   "mimetype": "text/x-python",
   "name": "python",
   "nbconvert_exporter": "python",
   "pygments_lexer": "ipython3",
   "version": "3.6.3"
  }
 },
 "nbformat": 4,
 "nbformat_minor": 2
}
